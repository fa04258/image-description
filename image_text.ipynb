{
  "nbformat": 4,
  "nbformat_minor": 0,
  "metadata": {
    "colab": {
      "provenance": []
    },
    "kernelspec": {
      "name": "python3",
      "display_name": "Python 3"
    },
    "language_info": {
      "name": "python"
    }
  },
  "cells": [
    {
      "cell_type": "code",
      "source": [
        "from transformers import pipeline\n",
        "\n"
      ],
      "metadata": {
        "id": "CbPKXpfSUWjH"
      },
      "execution_count": 9,
      "outputs": []
    },
    {
      "cell_type": "code",
      "source": [
        "vqa_pipeline = pipeline('visual-question-answering')"
      ],
      "metadata": {
        "colab": {
          "base_uri": "https://localhost:8080/"
        },
        "id": "EVTqjWu6UfDz",
        "outputId": "d8d4d15f-6b86-49db-ef9e-374e2feb52be"
      },
      "execution_count": 11,
      "outputs": [
        {
          "output_type": "stream",
          "name": "stderr",
          "text": [
            "No model was supplied, defaulted to dandelin/vilt-b32-finetuned-vqa and revision d0a1f6a (https://huggingface.co/dandelin/vilt-b32-finetuned-vqa).\n",
            "Using a pipeline without specifying a model name and revision in production is not recommended.\n",
            "Device set to use cpu\n"
          ]
        }
      ]
    },
    {
      "cell_type": "code",
      "source": [
        "image=r'/content/pigeon.jpg'"
      ],
      "metadata": {
        "id": "nXsgp4-DUn19"
      },
      "execution_count": 17,
      "outputs": []
    },
    {
      "cell_type": "code",
      "source": [
        "question=input('enter a question to ask about image:')\n",
        "result=vqa_pipeline(image,question)\n",
        "print (result)"
      ],
      "metadata": {
        "colab": {
          "base_uri": "https://localhost:8080/"
        },
        "id": "u9f2oL-MUi1T",
        "outputId": "537b8d2c-041a-48e6-d4a6-3f0ddaac7c71"
      },
      "execution_count": 18,
      "outputs": [
        {
          "output_type": "stream",
          "name": "stdout",
          "text": [
            "enter a question to ask about image:name the bird name\n",
            "[{'score': 0.9343150854110718, 'answer': 'pigeon'}, {'score': 0.051614340394735336, 'answer': 'parrot'}, {'score': 0.04005056619644165, 'answer': \"don't know\"}, {'score': 0.03878653794527054, 'answer': 'unknown'}, {'score': 0.01579684019088745, 'answer': 'not sure'}]\n"
          ]
        }
      ]
    },
    {
      "cell_type": "code",
      "source": [],
      "metadata": {
        "id": "678nDGjPVNIN"
      },
      "execution_count": 13,
      "outputs": []
    }
  ]
}